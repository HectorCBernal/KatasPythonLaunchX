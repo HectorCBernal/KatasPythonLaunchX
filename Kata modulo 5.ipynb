{
 "cells": [
  {
   "cell_type": "markdown",
   "metadata": {},
   "source": [
    "# Kata del modulo 5"
   ]
  },
  {
   "cell_type": "markdown",
   "metadata": {},
   "source": [
    "Ejercicio 1"
   ]
  },
  {
   "cell_type": "code",
   "execution_count": null,
   "metadata": {},
   "outputs": [],
   "source": [
    "# Crear variables para almacenar las dos distancias\n",
    "# ¡Asegúrate de quitar las comas!\n",
    "\n",
    "Tierra = 149597870\n",
    "Jupiter = 778547200\n",
    "\n",
    "# Calcular la distancia entre planetas\n",
    "\n",
    "DistanciaKM = Jupiter - Tierra\n",
    "print(DistanciaKM)\n",
    "\n",
    "DistanciaMI = DistanciaKM * 0.621\n",
    "print(DistanciaMI)"
   ]
  },
  {
   "cell_type": "markdown",
   "metadata": {},
   "source": [
    "Ejercicio 2"
   ]
  },
  {
   "cell_type": "code",
   "execution_count": null,
   "metadata": {},
   "outputs": [],
   "source": [
    "# Almacenar las entradas del usuario\n",
    "PrimerPlaneta = input('Introduzca la distancia del sol hacia el primer planeta en KILOMETROS (SIN COMAS)')\n",
    "SegundoPlaneta = input('Introduzca la distancia del sol hacia el segundo planeta en KILOMETROS (SIN COMAS)')\n",
    "\n",
    "\n",
    "# Convierte las cadenas de ambos planetas a números enteros\n",
    "PrimerPlaneta = int(PrimerPlaneta)\n",
    "SegundoPlaneta = int(SegundoPlaneta)\n",
    "\n",
    "\n",
    "# Realizar el cálculo y determinar el valor absoluto\n",
    "DistanciaKM = SegundoPlaneta - PrimerPlaneta\n",
    "print(DistanciaKM)\n",
    "\n",
    "# Convertir de KM a Millas\n",
    "DistanciaMI = DistanciaKM * 0.621\n",
    "print(abs(DistanciaMI))"
   ]
  }
 ],
 "metadata": {
  "interpreter": {
   "hash": "b3ba2566441a7c06988d0923437866b63cedc61552a5af99d1f4fb67d367b25f"
  },
  "kernelspec": {
   "display_name": "Python 3.8.3 ('base')",
   "language": "python",
   "name": "python3"
  },
  "language_info": {
   "codemirror_mode": {
    "name": "ipython",
    "version": 3
   },
   "file_extension": ".py",
   "mimetype": "text/x-python",
   "name": "python",
   "nbconvert_exporter": "python",
   "pygments_lexer": "ipython3",
   "version": "3.8.3"
  },
  "orig_nbformat": 4
 },
 "nbformat": 4,
 "nbformat_minor": 2
}
