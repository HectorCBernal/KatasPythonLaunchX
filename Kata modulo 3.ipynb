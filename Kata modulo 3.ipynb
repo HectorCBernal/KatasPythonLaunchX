{
 "cells": [
  {
   "cell_type": "markdown",
   "metadata": {},
   "source": [
    "# Kata del módulo 3\n"
   ]
  },
  {
   "cell_type": "code",
   "execution_count": null,
   "metadata": {},
   "outputs": [],
   "source": [
    "# Añadir el código necesario para crear una variable que guarde la velocidad del asteroide.\n",
    "# Escribe una expresión de prueba para calcular si necesita una advertencia.\n",
    "# Agregue las instrucciones que se ejecutarán si la expresión de prueba es true o false.\n",
    "\n",
    "VelAsteroide = 49\n",
    "if VelAsteroide > 25:\n",
    "    print('Cuidado! Un asteroide se acerca peligrosamente!')\n",
    "else:\n",
    "    print('Por el momento no hay peligro, continúa con tu día!')"
   ]
  },
  {
   "cell_type": "code",
   "execution_count": null,
   "metadata": {},
   "outputs": [],
   "source": [
    "# Agrega el código para crear una variable para un asteroide que viaja a 19 km/s\n",
    "# Escribe varias expresiones de prueba para determinar si puedes ver el rayo de luz desde la tierra\n",
    "# Agrega las instrucciones que se ejecutarán si las expresiones de prueba son True o False\n",
    "\n",
    "VelAsteroide = 19\n",
    "if VelAsteroide > 20:\n",
    "    print('Observa el cielo, podemos ver el estaroide desde aquí!')\n",
    "elif VelAsteroide == 20:\n",
    "    print('Observa el cielo, podemos ver el estaroide desde aquí!')\n",
    "else:\n",
    "    print('Te avisaremos cuando se pueda observar el asteroide desde aquí')"
   ]
  },
  {
   "cell_type": "code",
   "execution_count": null,
   "metadata": {},
   "outputs": [],
   "source": [
    "# Agrega el código para crear nuevas variables para la velocidad y el tamaño del asteroide\n",
    "# Para probar el código, prueba con varias velocidades y tamaños\n",
    "# Escribe varias expresiones de prueba o combinaciones de expresiones de prueba para determinar qué mensaje se debe enviar a Tierra.\n",
    "\n",
    "VelAsteroide = 25\n",
    "TamAsteroide = 40\n",
    "if VelAsteroide > 25 and TamAsteroide > 25:\n",
    "    print('Cuidado! Un asteroide se acerca peligrosamente!')\n",
    "elif VelAsteroide >= 20:\n",
    "    print('Observa el cielo, podemos ver el estaroide desde aquí!!')\n",
    "elif TamAsteroide < 25:\n",
    "    print('Te avisaremos cuando se pueda observar el asteroide desde aquí')\n",
    "else:\n",
    "    print('Te avisaremos cuando se pueda observar el asteroide desde aquí')"
   ]
  }
 ],
 "metadata": {
  "interpreter": {
   "hash": "b89b5cfaba6639976dc87ff2fec6d58faec662063367e2c229c520fe71072417"
  },
  "kernelspec": {
   "display_name": "Python 3.10.2 64-bit",
   "language": "python",
   "name": "python3"
  },
  "language_info": {
   "codemirror_mode": {
    "name": "ipython",
    "version": 3
   },
   "file_extension": ".py",
   "mimetype": "text/x-python",
   "name": "python",
   "nbconvert_exporter": "python",
   "pygments_lexer": "ipython3",
   "version": "3.8.3"
  },
  "orig_nbformat": 4
 },
 "nbformat": 4,
 "nbformat_minor": 2
}
